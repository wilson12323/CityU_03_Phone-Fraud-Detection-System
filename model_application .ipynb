{
 "cells": [
  {
   "cell_type": "code",
   "execution_count": null,
   "id": "15cd5068",
   "metadata": {
    "scrolled": true
   },
   "outputs": [],
   "source": [
    "from sklearn.feature_extraction.text import CountVectorizer \n",
    "import joblib \n",
    "import tkinter.messagebox as message \n",
    "\n",
    "\n",
    "count_vectorizer = joblib.load('count_vectorizer.pkl')\n",
    "classifier = joblib.load('classifier.pkl')\n",
    "\n",
    "def classify(document):\n",
    "    label = {0:\"scamming\",1:\"non-scamming\"}\n",
    "    document_text = count_vectorizer.transform([document])\n",
    "    y = classifier.predict(document_text)\n",
    "    return label.get(int(y),None)\n",
    "\n",
    "text = input('text here: ')\n",
    "\n",
    "if classify(text)== 'scamming':\n",
    "    message.showinfo(title=\"Be Careful!!!!\", message=\"This calling has scamming risk\")\n",
    "\n",
    "print(\"This calling is\",classify(text))"
   ]
  },
  {
   "cell_type": "code",
   "execution_count": null,
   "id": "c619625f",
   "metadata": {},
   "outputs": [],
   "source": []
  }
 ],
 "metadata": {
  "kernelspec": {
   "display_name": "Python 3 (ipykernel)",
   "language": "python",
   "name": "python3"
  },
  "language_info": {
   "codemirror_mode": {
    "name": "ipython",
    "version": 3
   },
   "file_extension": ".py",
   "mimetype": "text/x-python",
   "name": "python",
   "nbconvert_exporter": "python",
   "pygments_lexer": "ipython3",
   "version": "3.9.12"
  }
 },
 "nbformat": 4,
 "nbformat_minor": 5
}
